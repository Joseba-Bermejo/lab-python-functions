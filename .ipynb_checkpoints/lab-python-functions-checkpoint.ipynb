{
 "cells": [
  {
   "cell_type": "markdown",
   "id": "25d7736c-ba17-4aff-b6bb-66eba20fbf4e",
   "metadata": {},
   "source": [
    "# Lab | Functions"
   ]
  },
  {
   "cell_type": "markdown",
   "id": "0c581062-8967-4d93-b06e-62833222f930",
   "metadata": {
    "tags": []
   },
   "source": [
    "## Exercise: Managing Customer Orders with Functions\n",
    "\n",
    "In the previous exercise, you improved the code for managing customer orders by using loops and flow control. Now, let's take it a step further and refactor the code by introducing functions.\n",
    "\n",
    "Follow the steps below to complete the exercise:\n",
    "\n",
    "1. Define a function named `initialize_inventory` that takes `products` as a parameter. Inside the function, implement the code for initializing the inventory dictionary using a loop and user input.\n",
    "\n",
    "2. Define a function named `get_customer_orders` that takes no parameters. Inside the function, implement the code for prompting the user to enter the product names using a loop. The function should return the `customer_orders` set.\n",
    "\n",
    "3. Define a function named `update_inventory` that takes `customer_orders` and `inventory` as parameters. Inside the function, implement the code for updating the inventory dictionary based on the customer orders.\n",
    "\n",
    "4. Define a function named `calculate_order_statistics` that takes `customer_orders` and `products` as parameters. Inside the function, implement the code for calculating the order statistics (total products ordered, and percentage of unique products ordered). The function should return these values.\n",
    "\n",
    "5. Define a function named `print_order_statistics` that takes `order_statistics` as a parameter. Inside the function, implement the code for printing the order statistics.\n",
    "\n",
    "6. Define a function named `print_updated_inventory` that takes `inventory` as a parameter. Inside the function, implement the code for printing the updated inventory.\n",
    "\n",
    "7. Call the functions in the appropriate sequence to execute the program and manage customer orders.\n",
    "\n",
    "Hints for functions:\n",
    "\n",
    "- Consider the input parameters required for each function and their return values.\n",
    "- Utilize function parameters and return values to transfer data between functions.\n",
    "- Test your functions individually to ensure they work correctly.\n",
    "\n",
    "\n"
   ]
  },
  {
   "cell_type": "code",
   "execution_count": 3,
   "id": "895297f0-8144-4ef6-9351-d9a8d0637994",
   "metadata": {},
   "outputs": [],
   "source": [
    "# 1. Define a function named initialize_inventory that takes products as a parameter. \n",
    "# Inside the function, implement the code for initializing the inventory dictionary using a loop and user input.\n",
    "dic_inventory = {}\n",
    "\n",
    "\n",
    "def initialize_inventory():\n",
    "    answer = \"yes\"\n",
    "    while True:\n",
    "        name_product = input(\"Add a product to the inventory: \")\n",
    "        quantity_product = int(input(\"Add quantity: \"))\n",
    "        dic_inventory[name_product] = quantity_product\n",
    "        answer = input(\"Do you want to add new products to the inventory?\")\n",
    "        if answer != \"yes\":\n",
    "            break"
   ]
  },
  {
   "cell_type": "code",
   "execution_count": 5,
   "id": "8e8b7e3c-43ef-4d69-b6b3-75a0c9c24ada",
   "metadata": {},
   "outputs": [
    {
     "name": "stdin",
     "output_type": "stream",
     "text": [
      "Add a product to the inventory:  hat\n",
      "Add quantity:  100\n",
      "Do you want to add new products to the inventory? yes\n",
      "Add a product to the inventory:  mug\n",
      "Add quantity:  100\n",
      "Do you want to add new products to the inventory? yes\n",
      "Add a product to the inventory:  nook\n",
      "Add quantity:  100\n",
      "Do you want to add new products to the inventory? yes\n",
      "Add a product to the inventory:  t-shirt\n",
      "Add quantity:  100\n",
      "Do you want to add new products to the inventory? yes\n",
      "Add a product to the inventory:  keychain\n",
      "Add quantity:  100\n",
      "Do you want to add new products to the inventory? no\n"
     ]
    }
   ],
   "source": [
    "initialize_inventory()"
   ]
  },
  {
   "cell_type": "code",
   "execution_count": 7,
   "id": "a30c7a40-9d76-40ec-97aa-f94c3fa8d85e",
   "metadata": {},
   "outputs": [
    {
     "data": {
      "text/plain": [
       "{'hat': 100, 'mug': 100, 'nook': 100, 't-shirt': 100, 'keychain': 100}"
      ]
     },
     "execution_count": 7,
     "metadata": {},
     "output_type": "execute_result"
    }
   ],
   "source": [
    "dic_inventory"
   ]
  },
  {
   "cell_type": "code",
   "execution_count": null,
   "id": "38372380-7bd8-4a11-80f1-b5fe78312406",
   "metadata": {},
   "outputs": [],
   "source": [
    "type(dic_inventory)"
   ]
  },
  {
   "cell_type": "code",
   "execution_count": 9,
   "id": "ba5178ff-2a66-4652-bc94-f90498ed524d",
   "metadata": {},
   "outputs": [],
   "source": [
    "# 2. Define a function named get_customer_orders that takes no parameters. \n",
    "# Inside the function, implement the code for prompting the user to enter the product names using a loop. \n",
    "# The function should return the customer_orders set.\n",
    "customer_orders = set()\n",
    "answer = \"yes\"\n",
    "\n",
    "\n",
    "def get_customer_orders():\n",
    "    \n",
    "    while True:\n",
    "        cust_product = input(\"Add your desided product: \")\n",
    "        customer_orders.add(cust_product)\n",
    "        answer = input(\"Do you want to buy more products?\")\n",
    "        if answer != \"yes\":\n",
    "            break"
   ]
  },
  {
   "cell_type": "code",
   "execution_count": 11,
   "id": "850f2af8-ca2b-4ead-8c6e-925d0714a162",
   "metadata": {},
   "outputs": [
    {
     "name": "stdin",
     "output_type": "stream",
     "text": [
      "Add your desided product:  hat\n",
      "Do you want to buy more products? yes\n",
      "Add your desided product:  mug\n",
      "Do you want to buy more products? no\n"
     ]
    }
   ],
   "source": [
    "get_customer_orders()"
   ]
  },
  {
   "cell_type": "code",
   "execution_count": 13,
   "id": "5789642a-7cbf-4e85-8e9a-cdb6ce9f38ea",
   "metadata": {},
   "outputs": [
    {
     "data": {
      "text/plain": [
       "{'hat', 'mug'}"
      ]
     },
     "execution_count": 13,
     "metadata": {},
     "output_type": "execute_result"
    }
   ],
   "source": [
    "customer_orders"
   ]
  },
  {
   "cell_type": "code",
   "execution_count": null,
   "id": "e95953b5-b0a6-4b64-94f7-ca121e711020",
   "metadata": {},
   "outputs": [],
   "source": [
    "type(customer_orders)"
   ]
  },
  {
   "cell_type": "code",
   "execution_count": 15,
   "id": "9c2f55c0-4f58-4b36-899a-274ea15e9e46",
   "metadata": {},
   "outputs": [],
   "source": [
    "# 3. Define a function named update_inventory that takes customer_orders and inventory as parameters. \n",
    "# Inside the function, implement the code for updating the inventory dictionary based on the customer orders.\n",
    "\n",
    "def update_inventory(customer_orders,inventory):\n",
    "    for product in customer_orders:\n",
    "        if product in dic_inventory and dic_inventory[product] >0:\n",
    "            dic_inventory[product] -=1\n"
   ]
  },
  {
   "cell_type": "code",
   "execution_count": 17,
   "id": "99611ed2-f8ba-47c2-9d44-87b55b875a7d",
   "metadata": {},
   "outputs": [],
   "source": [
    "update_inventory(customer_orders,dic_inventory)"
   ]
  },
  {
   "cell_type": "code",
   "execution_count": 19,
   "id": "e6df018b-6b68-4709-8912-fb9800cc9083",
   "metadata": {},
   "outputs": [
    {
     "name": "stdout",
     "output_type": "stream",
     "text": [
      "{'hat': 99, 'mug': 99, 'nook': 100, 't-shirt': 100, 'keychain': 100}\n"
     ]
    }
   ],
   "source": [
    "print(dic_inventory)"
   ]
  },
  {
   "cell_type": "code",
   "execution_count": 21,
   "id": "8f3962fe-a64d-4c08-b276-eda92e576b8a",
   "metadata": {},
   "outputs": [],
   "source": [
    "# 4. Define a function named calculate_order_statistics that takes customer_orders and products as parameters. \n",
    "# Inside the function, implement the code for calculating the order statistics (total products ordered, and percentage of unique products ordered). \n",
    "# The function should return these values.\n",
    "\n",
    "def calculate_order_statistics(customer_orders,dic_inventory):\n",
    "    total_products_ordered = len(customer_orders)\n",
    "    percentage_unique_products = len(customer_orders) / len(dic_inventory) * 100\n",
    "    return total_products_ordered, percentage_unique_products"
   ]
  },
  {
   "cell_type": "code",
   "execution_count": 23,
   "id": "d9d99a7a-c22d-4d7d-97d8-517ff4a4521a",
   "metadata": {},
   "outputs": [
    {
     "data": {
      "text/plain": [
       "(2, 40.0)"
      ]
     },
     "execution_count": 23,
     "metadata": {},
     "output_type": "execute_result"
    }
   ],
   "source": [
    "order_statistics = calculate_order_statistics(customer_orders,dic_inventory)\n",
    "order_statistics"
   ]
  },
  {
   "cell_type": "code",
   "execution_count": 25,
   "id": "e9ecaaf7-d4ae-4bb1-b253-6ff66389dde3",
   "metadata": {},
   "outputs": [],
   "source": [
    "# 5. Define a function named print_order_statistics that takes order_statistics as a parameter. \n",
    "# Inside the function, implement the code for printing the order statistics.\n",
    "\n",
    "\n",
    "def print_order_statistics(order_statistics):\n",
    "    total_products_ordered = len(customer_orders)\n",
    "    percentage_unique_products = len(customer_orders) / len(dic_inventory) * 100\n",
    "    print(f\"The customer ordered {total_products_ordered} products, and the percentage of unique products ordered by the customer is {percentage_unique_products}%\")"
   ]
  },
  {
   "cell_type": "code",
   "execution_count": 27,
   "id": "73be1bcc-9aad-42f6-827a-69d1571bff2c",
   "metadata": {},
   "outputs": [
    {
     "name": "stdout",
     "output_type": "stream",
     "text": [
      "The customer ordered 2 products, and the percentage of unique products ordered by the customer is 40.0%\n"
     ]
    }
   ],
   "source": [
    "print_order_statistics(order_statistics)"
   ]
  },
  {
   "cell_type": "code",
   "execution_count": 29,
   "id": "c67805e3-c61e-4c1b-bb0a-4ec9abd61ccf",
   "metadata": {},
   "outputs": [],
   "source": [
    "# 6. Define a function named print_updated_inventory that takes inventory as a parameter. \n",
    "# Inside the function, implement the code for printing the updated inventory.\n",
    "\n",
    "def print_updated_inventory(inventory):\n",
    "    print(\"Updated inventory:\")\n",
    "    for key,value in dic_inventory.items():\n",
    "        print(f\"{key}:{value}\")"
   ]
  },
  {
   "cell_type": "code",
   "execution_count": null,
   "id": "849f8602-c51d-4904-acf0-23db2aeca305",
   "metadata": {},
   "outputs": [],
   "source": [
    "# Other way of doing it with ZIP function.\n",
    "\n",
    "product_name = dic_inventory.keys()\n",
    "product_quantity = dic_inventory.values()\n",
    "\n",
    "for key,value in zip(product_name,product_quantity):\n",
    "        print(f\"{key}:{value}\")"
   ]
  },
  {
   "cell_type": "code",
   "execution_count": 31,
   "id": "aea28177-cf42-46ec-b172-d7d1ec607964",
   "metadata": {},
   "outputs": [
    {
     "name": "stdout",
     "output_type": "stream",
     "text": [
      "Updated inventory:\n",
      "hat:99\n",
      "mug:99\n",
      "nook:100\n",
      "t-shirt:100\n",
      "keychain:100\n"
     ]
    }
   ],
   "source": [
    "print_updated_inventory(dic_inventory)"
   ]
  },
  {
   "cell_type": "code",
   "execution_count": 35,
   "id": "90a378d2-e608-449e-9ce8-c6d2f7d59c2b",
   "metadata": {},
   "outputs": [
    {
     "name": "stdin",
     "output_type": "stream",
     "text": [
      "Add a product to the inventory:  hat\n",
      "Add quantity:  100\n",
      "Do you want to add new products to the inventory? yes\n",
      "Add a product to the inventory:  mug\n",
      "Add quantity:  100\n",
      "Do you want to add new products to the inventory? yes\n",
      "Add a product to the inventory:  book\n",
      "Add quantity:  100\n",
      "Do you want to add new products to the inventory? no\n",
      "Add your desided product:  hat\n",
      "Do you want to buy more products? yes\n",
      "Add your desided product:  book\n",
      "Do you want to buy more products? no\n"
     ]
    },
    {
     "name": "stdout",
     "output_type": "stream",
     "text": [
      "The customer ordered 2 products, and the percentage of unique products ordered by the customer is 66.66666666666666%\n",
      "Updated inventory:\n",
      "hat:99\n",
      "mug:100\n",
      "book:99\n"
     ]
    }
   ],
   "source": [
    "# 7. Call the functions in the appropriate sequence to execute the program and manage customer orders.\n",
    "dic_inventory = {}\n",
    "customer_orders = set()\n",
    "initialize_inventory()\n",
    "\n",
    "get_customer_orders()\n",
    "\n",
    "update_inventory(customer_orders,dic_inventory)\n",
    "\n",
    "order_statistics = calculate_order_statistics(customer_orders,dic_inventory)\n",
    "\n",
    "print_order_statistics(order_statistics)\n",
    "\n",
    "print_updated_inventory(dic_inventory)"
   ]
  }
 ],
 "metadata": {
  "kernelspec": {
   "display_name": "Python [conda env:base] *",
   "language": "python",
   "name": "conda-base-py"
  },
  "language_info": {
   "codemirror_mode": {
    "name": "ipython",
    "version": 3
   },
   "file_extension": ".py",
   "mimetype": "text/x-python",
   "name": "python",
   "nbconvert_exporter": "python",
   "pygments_lexer": "ipython3",
   "version": "3.12.7"
  }
 },
 "nbformat": 4,
 "nbformat_minor": 5
}
